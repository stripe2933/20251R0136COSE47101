{
 "cells": [
  {
   "cell_type": "code",
   "execution_count": 4,
   "id": "fdc84b4c",
   "metadata": {},
   "outputs": [
    {
     "name": "stdout",
     "output_type": "stream",
     "text": [
      "         소속                              주소 위도(도_분_초)  경도(도_분_초)\n",
      "14     전라남도             전남 영암군 덕진면 소방항공대길99  34.49.45  126.42.11\n",
      "15     경상북도   경상북도 포항시 북구 기계면 내단길86번길 19-59    36.4.6  129.13.50\n",
      "16     경상남도        경상남도 합천군 용주면 고품부흥1길10-36  35.33.18   128.6.60\n",
      "17  제주특별자치도             제주특별자치도 제주시 신대로9길22  33.30.16   126.29.5\n",
      "18     충청북도  충청북도 청주시 청원구 내수읍(공군 17전투비행단 내)  36.42.45  127.29.26\n"
     ]
    }
   ],
   "source": [
    "import pandas as pd\n",
    "\n",
    "df = pd.read_csv(\"data/소방청_시도 소방항공대 현황_20231231.csv\", encoding='cp949')\n",
    "\n",
    "# 충북 행 추가 \n",
    "충북_행 = {\n",
    "    \"소속\": \"충청북도\", \n",
    "    \" 주소\": \"충청북도 청주시 청원구 내수읍(공군 17전투비행단 내)\", \n",
    "    \"위도(도_분_초)\": \"36.42.45\", \n",
    "    \"경도(도_분_초)\": \"127.29.26\"\n",
    "}\n",
    "\n",
    "# 기존 DataFrame에 추가\n",
    "df = pd.concat([df, pd.DataFrame([충북_행])], ignore_index=True)\n",
    "\n",
    "# 결과 확인\n",
    "print(df.tail())\n"
   ]
  },
  {
   "cell_type": "code",
   "execution_count": 5,
   "id": "74df7af3",
   "metadata": {},
   "outputs": [
    {
     "data": {
      "text/html": [
       "<div>\n",
       "<style scoped>\n",
       "    .dataframe tbody tr th:only-of-type {\n",
       "        vertical-align: middle;\n",
       "    }\n",
       "\n",
       "    .dataframe tbody tr th {\n",
       "        vertical-align: top;\n",
       "    }\n",
       "\n",
       "    .dataframe thead th {\n",
       "        text-align: right;\n",
       "    }\n",
       "</style>\n",
       "<table border=\"1\" class=\"dataframe\">\n",
       "  <thead>\n",
       "    <tr style=\"text-align: right;\">\n",
       "      <th></th>\n",
       "      <th>소속</th>\n",
       "      <th>주소</th>\n",
       "      <th>위도</th>\n",
       "      <th>경도</th>\n",
       "    </tr>\n",
       "  </thead>\n",
       "  <tbody>\n",
       "    <tr>\n",
       "      <th>0</th>\n",
       "      <td>중앙119구조본부(영남권)</td>\n",
       "      <td>대구광역시 달성군 구지면 수리리 구지서로1</td>\n",
       "      <td>35.660278</td>\n",
       "      <td>128.386389</td>\n",
       "    </tr>\n",
       "    <tr>\n",
       "      <th>1</th>\n",
       "      <td>중앙119구조본부(수도권)</td>\n",
       "      <td>경기도 남양주시 덕송3로45</td>\n",
       "      <td>37.672222</td>\n",
       "      <td>127.108056</td>\n",
       "    </tr>\n",
       "    <tr>\n",
       "      <th>2</th>\n",
       "      <td>중앙119구조본부(호남권)</td>\n",
       "      <td>전라남도 화순군 이양면 학포로 327</td>\n",
       "      <td>34.872222</td>\n",
       "      <td>126.995000</td>\n",
       "    </tr>\n",
       "    <tr>\n",
       "      <th>3</th>\n",
       "      <td>중앙119구조본부(충강권)</td>\n",
       "      <td>충청북도 충주시 주덕읍 화곡1길 510</td>\n",
       "      <td>37.012500</td>\n",
       "      <td>127.810278</td>\n",
       "    </tr>\n",
       "    <tr>\n",
       "      <th>4</th>\n",
       "      <td>서울특별시</td>\n",
       "      <td>서울특별시 강서구 하늘길84</td>\n",
       "      <td>37.553056</td>\n",
       "      <td>126.791944</td>\n",
       "    </tr>\n",
       "  </tbody>\n",
       "</table>\n",
       "</div>"
      ],
      "text/plain": [
       "               소속                       주소         위도          경도\n",
       "0  중앙119구조본부(영남권)  대구광역시 달성군 구지면 수리리 구지서로1  35.660278  128.386389\n",
       "1  중앙119구조본부(수도권)          경기도 남양주시 덕송3로45  37.672222  127.108056\n",
       "2  중앙119구조본부(호남권)     전라남도 화순군 이양면 학포로 327  34.872222  126.995000\n",
       "3  중앙119구조본부(충강권)    충청북도 충주시 주덕읍 화곡1길 510  37.012500  127.810278\n",
       "4           서울특별시          서울특별시 강서구 하늘길84  37.553056  126.791944"
      ]
     },
     "execution_count": 5,
     "metadata": {},
     "output_type": "execute_result"
    }
   ],
   "source": [
    "# 경위도를 부동소수점 형식으로 변환\n",
    "\n",
    "def angle_to_float(angle_str):\n",
    "    degree, minute, second = map(float, angle_str.split('.'))\n",
    "    return degree + minute / 60 + second / 3600\n",
    "\n",
    "df['위도'] = df['위도(도_분_초)'].apply(angle_to_float)\n",
    "df['경도'] = df['경도(도_분_초)'].apply(angle_to_float)\n",
    "df.drop(columns=['위도(도_분_초)', '경도(도_분_초)'], inplace=True)\n",
    "\n",
    "df.head()"
   ]
  },
  {
   "cell_type": "code",
   "execution_count": 6,
   "id": "aaa4eee8",
   "metadata": {},
   "outputs": [],
   "source": [
    "# 새 파일로 저장\n",
    "df.to_csv(\"data/소방청_시도 소방항공대 현황_최종.csv\", index=False)"
   ]
  },
  {
   "cell_type": "code",
   "execution_count": null,
   "id": "2f3c74e7",
   "metadata": {},
   "outputs": [],
   "source": []
  }
 ],
 "metadata": {
  "kernelspec": {
   "display_name": "Python 3",
   "language": "python",
   "name": "python3"
  },
  "language_info": {
   "codemirror_mode": {
    "name": "ipython",
    "version": 3
   },
   "file_extension": ".py",
   "mimetype": "text/x-python",
   "name": "python",
   "nbconvert_exporter": "python",
   "pygments_lexer": "ipython3",
   "version": "3.11.12"
  }
 },
 "nbformat": 4,
 "nbformat_minor": 5
}
