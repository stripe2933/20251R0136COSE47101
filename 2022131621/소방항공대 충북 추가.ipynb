{
 "cells": [
  {
   "cell_type": "code",
   "execution_count": 8,
   "id": "fdc84b4c",
   "metadata": {},
   "outputs": [
    {
     "name": "stdout",
     "output_type": "stream",
     "text": [
      "         소속                              주소 위도(도_분_초)  경도(도_분_초)\n",
      "14     전라남도             전남 영암군 덕진면 소방항공대길99  34.49.45  126.42.11\n",
      "15     경상북도   경상북도 포항시 북구 기계면 내단길86번길 19-59    36.4.6  129.13.50\n",
      "16     경상남도        경상남도 합천군 용주면 고품부흥1길10-36  35.33.18   128.6.60\n",
      "17  제주특별자치도             제주특별자치도 제주시 신대로9길22  33.30.16   126.29.5\n",
      "18     충청북도  충청북도 청주시 청원구 내수읍(공군 17전투비행단 내)  36.42.45  127.29.26\n"
     ]
    }
   ],
   "source": [
    "import pandas as pd\n",
    "\n",
    "df = pd.read_csv(\"data/소방청_시도 소방항공대 현황_20231231.csv\", encoding='cp949')\n",
    "\n",
    "# 충북 행 추가 \n",
    "충북_행 = {\n",
    "    \"소속\": \"충청북도\", \n",
    "    \" 주소\": \"충청북도 청주시 청원구 내수읍(공군 17전투비행단 내)\", \n",
    "    \"위도(도_분_초)\": \"36.42.45\", \n",
    "    \"경도(도_분_초)\": \"127.29.26\"\n",
    "}\n",
    "\n",
    "# 기존 DataFrame에 추가\n",
    "df = pd.concat([df, pd.DataFrame([충북_행])], ignore_index=True)\n",
    "\n",
    "# 결과 확인\n",
    "print(df.tail())\n",
    "\n",
    "# 새 파일로 저장\n",
    "df.to_csv(\"data\\소방청_시도 소방항공대 현황_최종.csv\", index=False)\n"
   ]
  }
 ],
 "metadata": {
  "kernelspec": {
   "display_name": "Python 3",
   "language": "python",
   "name": "python3"
  },
  "language_info": {
   "codemirror_mode": {
    "name": "ipython",
    "version": 3
   },
   "file_extension": ".py",
   "mimetype": "text/x-python",
   "name": "python",
   "nbconvert_exporter": "python",
   "pygments_lexer": "ipython3",
   "version": "3.12.2"
  }
 },
 "nbformat": 4,
 "nbformat_minor": 5
}
